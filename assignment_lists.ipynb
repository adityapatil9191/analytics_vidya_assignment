{
 "cells": [
  {
   "cell_type": "code",
   "execution_count": 38,
   "id": "afc689cd",
   "metadata": {},
   "outputs": [],
   "source": [
    "#student marks\n",
    "student_marks = [\n",
    "    ['Name',   ['A','B','C','D','E']],\n",
    "    ['Ankit',  [ 41, 34, 45, 55, 63]],\n",
    "    ['Aravind',[ 42, 23, 34, 44, 53]],\n",
    "    ['Lakshay',[ 32, 23, 13, 54, 67]],\n",
    "    ['Gyan',   [ 23, 82, 23, 63, 34]],\n",
    "    ['Pranav', [ 21, 23, 25, 56, 56]]\n",
    "]\n"
   ]
  },
  {
   "cell_type": "code",
   "execution_count": 28,
   "id": "6a2d5f1d",
   "metadata": {},
   "outputs": [],
   "source": [
    "def highest_marks_in_B(student_marks):\n",
    "    array_b = []\n",
    "    for i in range(1,len(student_marks)):\n",
    "        array_b.append(student_marks[i][1][1])\n",
    "    return max(array_b)"
   ]
  },
  {
   "cell_type": "code",
   "execution_count": 29,
   "id": "0e591e15",
   "metadata": {},
   "outputs": [
    {
     "name": "stdout",
     "output_type": "stream",
     "text": [
      "82\n"
     ]
    }
   ],
   "source": [
    "print(highest_marks_in_B(student_marks))"
   ]
  },
  {
   "cell_type": "code",
   "execution_count": 33,
   "id": "1c042348",
   "metadata": {},
   "outputs": [],
   "source": [
    "def average_marks_scored_c(student_marks):\n",
    "    array_c = []\n",
    "    for i in range(1,len(student_marks)):\n",
    "        array_c.append(student_marks[i][1][2])\n",
    "    return sum(array_c)/len(array_c)"
   ]
  },
  {
   "cell_type": "code",
   "execution_count": 34,
   "id": "46372e1d",
   "metadata": {},
   "outputs": [
    {
     "name": "stdout",
     "output_type": "stream",
     "text": [
      "28.0\n"
     ]
    }
   ],
   "source": [
    "print(average_marks_scored_c(student_marks))"
   ]
  },
  {
   "cell_type": "code",
   "execution_count": 44,
   "id": "2bc82d0f",
   "metadata": {},
   "outputs": [],
   "source": [
    "def calculate_percentage(marks_array):\n",
    "    return sum(marks_array)/500*100\n",
    "def calculate_max_percentage(student_marks):\n",
    "    percentage_array = []\n",
    "    for i in range(1,len(student_marks)):\n",
    "        percentage_val = 0\n",
    "        percentage_val = calculate_percentage(student_marks[i][1])\n",
    "        percentage_array.append(percentage_val)\n",
    "        max_percentage = max(percentage_array)\n",
    "    return student_marks[percentage_array.index(max_percentage) + 1][0]"
   ]
  },
  {
   "cell_type": "code",
   "execution_count": 45,
   "id": "d1983731",
   "metadata": {},
   "outputs": [
    {
     "name": "stdout",
     "output_type": "stream",
     "text": [
      "Ankit\n"
     ]
    }
   ],
   "source": [
    "print(calculate_max_percentage(student_marks))"
   ]
  },
  {
   "cell_type": "code",
   "execution_count": 65,
   "id": "ba7b65bc",
   "metadata": {},
   "outputs": [],
   "source": [
    "def top_four_subjects_highest_percentage(marks_array):\n",
    "    top_four_percentage = []\n",
    "    for i in range(1,len(student_marks)):\n",
    "        top_four_subjects = sorted(student_marks[i][1],reverse=True)[:4]\n",
    "        top_four_percentage.append(sum(top_four_subjects)/400*100)\n",
    "    max_percentage_index = top_four_percentage.index(max(top_four_percentage))\n",
    "    return student_marks[max_percentage_index +1][0]"
   ]
  },
  {
   "cell_type": "code",
   "execution_count": 66,
   "id": "9afbc3c0",
   "metadata": {},
   "outputs": [
    {
     "data": {
      "text/plain": [
       "'Ankit'"
      ]
     },
     "execution_count": 66,
     "metadata": {},
     "output_type": "execute_result"
    }
   ],
   "source": [
    "top_four_subjects_highest_percentage(student_marks)"
   ]
  },
  {
   "cell_type": "code",
   "execution_count": null,
   "id": "093b145d",
   "metadata": {},
   "outputs": [],
   "source": []
  }
 ],
 "metadata": {
  "kernelspec": {
   "display_name": "Python 3",
   "language": "python",
   "name": "python3"
  },
  "language_info": {
   "codemirror_mode": {
    "name": "ipython",
    "version": 3
   },
   "file_extension": ".py",
   "mimetype": "text/x-python",
   "name": "python",
   "nbconvert_exporter": "python",
   "pygments_lexer": "ipython3",
   "version": "3.8.8"
  }
 },
 "nbformat": 4,
 "nbformat_minor": 5
}
